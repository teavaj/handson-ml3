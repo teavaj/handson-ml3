{
 "cells": [
  {
   "cell_type": "code",
   "execution_count": 47,
   "metadata": {},
   "outputs": [],
   "source": [
    "from sklearn.datasets import fetch_openml\n",
    "from sklearn.model_selection import train_test_split\n",
    "from sklearn.ensemble import RandomForestClassifier, ExtraTreesClassifier\n",
    "from sklearn.svm import SVC, LinearSVC\n",
    "from sklearn.metrics import accuracy_score\n",
    "from sklearn.ensemble import VotingClassifier\n",
    "from sklearn.linear_model import LogisticRegression\n",
    "\n",
    "import numpy as np\n"
   ]
  },
  {
   "attachments": {},
   "cell_type": "markdown",
   "metadata": {},
   "source": [
    "# EXERCISE 8\n"
   ]
  },
  {
   "cell_type": "code",
   "execution_count": 7,
   "metadata": {},
   "outputs": [
    {
     "name": "stderr",
     "output_type": "stream",
     "text": [
      "/Users/vajk/opt/anaconda3/envs/homl3/lib/python3.10/site-packages/sklearn/datasets/_openml.py:932: FutureWarning: The default value of `parser` will change from `'liac-arff'` to `'auto'` in 1.4. You can set `parser='auto'` to silence this warning. Therefore, an `ImportError` will be raised from 1.4 if the dataset is dense and pandas is not installed. Note that the pandas parser may return different data types. See the Notes Section in fetch_openml's API doc for details.\n",
      "  warn(\n"
     ]
    }
   ],
   "source": [
    "mnist = fetch_openml(\"mnist_784\", version=1, as_frame=False)\n",
    "\n",
    "X, y = mnist[\"data\"], mnist[\"target\"]\n"
   ]
  },
  {
   "cell_type": "code",
   "execution_count": 8,
   "metadata": {},
   "outputs": [],
   "source": [
    "X_train, X_test, y_train, y_test = train_test_split(X, y, test_size=0.3)\n",
    "X_val, X_test, y_val, y_test = train_test_split(X_test, y_test, test_size=0.5)\n"
   ]
  },
  {
   "cell_type": "code",
   "execution_count": 16,
   "metadata": {},
   "outputs": [
    {
     "data": {
      "text/plain": [
       "0.963265306122449"
      ]
     },
     "execution_count": 16,
     "metadata": {},
     "output_type": "execute_result"
    }
   ],
   "source": [
    "for_clf = RandomForestClassifier(\n",
    "    bootstrap=True, oob_score=True, n_jobs=-1, random_state=2\n",
    ").fit(X_train, y_train)\n",
    "for_clf.oob_score_\n"
   ]
  },
  {
   "cell_type": "code",
   "execution_count": 17,
   "metadata": {},
   "outputs": [
    {
     "data": {
      "text/plain": [
       "0.9685714285714285"
      ]
     },
     "execution_count": 17,
     "metadata": {},
     "output_type": "execute_result"
    }
   ],
   "source": [
    "y_pred = for_clf.predict(X_val)\n",
    "accuracy_score(y_val, y_pred)\n"
   ]
  },
  {
   "cell_type": "code",
   "execution_count": 18,
   "metadata": {},
   "outputs": [
    {
     "data": {
      "text/plain": [
       "0.961469387755102"
      ]
     },
     "execution_count": 18,
     "metadata": {},
     "output_type": "execute_result"
    }
   ],
   "source": [
    "ext_clf = ExtraTreesClassifier(\n",
    "    bootstrap=True, oob_score=True, n_jobs=-1, random_state=26\n",
    ").fit(X_train, y_train)\n",
    "ext_clf.oob_score_\n"
   ]
  },
  {
   "cell_type": "code",
   "execution_count": 19,
   "metadata": {},
   "outputs": [
    {
     "data": {
      "text/plain": [
       "0.9680952380952381"
      ]
     },
     "execution_count": 19,
     "metadata": {},
     "output_type": "execute_result"
    }
   ],
   "source": [
    "y_pred = ext_clf.predict(X_val)\n",
    "accuracy_score(y_val, y_pred)\n"
   ]
  },
  {
   "cell_type": "code",
   "execution_count": 20,
   "metadata": {},
   "outputs": [
    {
     "data": {
      "text/plain": [
       "0.11019047619047619"
      ]
     },
     "execution_count": 20,
     "metadata": {},
     "output_type": "execute_result"
    }
   ],
   "source": [
    "svm = SVC(kernel=\"sigmoid\", gamma=\"auto\", probability=True).fit(X_train, y_train)\n",
    "svm.score(X_val, y_val)\n"
   ]
  },
  {
   "cell_type": "code",
   "execution_count": 21,
   "metadata": {},
   "outputs": [
    {
     "data": {
      "text/plain": [
       "0.11019047619047619"
      ]
     },
     "execution_count": 21,
     "metadata": {},
     "output_type": "execute_result"
    }
   ],
   "source": [
    "y_pred = svm.predict(X_val)\n",
    "accuracy_score(y_val, y_pred)\n"
   ]
  },
  {
   "cell_type": "code",
   "execution_count": 24,
   "metadata": {},
   "outputs": [
    {
     "name": "stderr",
     "output_type": "stream",
     "text": [
      "/Users/vajk/opt/anaconda3/envs/homl3/lib/python3.10/site-packages/sklearn/svm/_base.py:1244: ConvergenceWarning: Liblinear failed to converge, increase the number of iterations.\n",
      "  warnings.warn(\n"
     ]
    },
    {
     "data": {
      "text/plain": [
       "0.8268571428571428"
      ]
     },
     "execution_count": 24,
     "metadata": {},
     "output_type": "execute_result"
    }
   ],
   "source": [
    "lin_svc = LinearSVC(random_state=3456).fit(X_train, y_train)\n",
    "y_pred = lin_svc.predict(X_val)\n",
    "accuracy_score(y_val, y_pred)\n"
   ]
  },
  {
   "cell_type": "code",
   "execution_count": 25,
   "metadata": {},
   "outputs": [
    {
     "name": "stderr",
     "output_type": "stream",
     "text": [
      "/Users/vajk/opt/anaconda3/envs/homl3/lib/python3.10/site-packages/sklearn/svm/_base.py:1244: ConvergenceWarning: Liblinear failed to converge, increase the number of iterations.\n",
      "  warnings.warn(\n"
     ]
    },
    {
     "data": {
      "text/plain": [
       "0.9034285714285715"
      ]
     },
     "execution_count": 25,
     "metadata": {},
     "output_type": "execute_result"
    }
   ],
   "source": [
    "from sklearn.pipeline import make_pipeline\n",
    "from sklearn.preprocessing import StandardScaler\n",
    "\n",
    "\n",
    "lin_svc = make_pipeline(StandardScaler(), LinearSVC(random_state=4)).fit(\n",
    "    X_train, y_train\n",
    ")\n",
    "y_pred = lin_svc.predict(X_val)\n",
    "accuracy_score(y_val, y_pred)\n"
   ]
  },
  {
   "cell_type": "code",
   "execution_count": 37,
   "metadata": {},
   "outputs": [],
   "source": [
    "logreg = make_pipeline(\n",
    "    StandardScaler(), LogisticRegression(random_state=45, max_iter=1000)\n",
    ").fit(X_train, y_train)\n"
   ]
  },
  {
   "cell_type": "code",
   "execution_count": 38,
   "metadata": {},
   "outputs": [
    {
     "data": {
      "text/plain": [
       "[0.9685714285714285,\n",
       " 0.9680952380952381,\n",
       " 0.11019047619047619,\n",
       " 0.9143809523809524]"
      ]
     },
     "execution_count": 38,
     "metadata": {},
     "output_type": "execute_result"
    }
   ],
   "source": [
    "estimators = [for_clf, ext_clf, svm, logreg]\n",
    "[estimator.score(X_val, y_val) for estimator in estimators]\n"
   ]
  },
  {
   "cell_type": "code",
   "execution_count": 41,
   "metadata": {},
   "outputs": [
    {
     "data": {
      "text/plain": [
       "0.9523809523809523"
      ]
     },
     "execution_count": 41,
     "metadata": {},
     "output_type": "execute_result"
    }
   ],
   "source": [
    "soft_vote = VotingClassifier(\n",
    "    [\n",
    "        (\n",
    "            \"for\",\n",
    "            RandomForestClassifier(\n",
    "                bootstrap=True, oob_score=True, n_jobs=-1, random_state=2\n",
    "            ),\n",
    "        ),\n",
    "        (\n",
    "            \"ext\",\n",
    "            ExtraTreesClassifier(\n",
    "                bootstrap=True, oob_score=True, n_jobs=-1, random_state=26\n",
    "            ),\n",
    "        ),\n",
    "        # ('svc', make_pipeline(StandardScaler(), LinearSVC(random_state=4))),\n",
    "        (\n",
    "            \"logreg\",\n",
    "            make_pipeline(\n",
    "                StandardScaler(), LogisticRegression(random_state=45, max_iter=1000)\n",
    "            ),\n",
    "        ),\n",
    "    ],\n",
    "    voting=\"soft\",\n",
    "    n_jobs=-1,\n",
    ")\n",
    "\n",
    "soft_vote.fit(X_train, y_train)\n",
    "soft_vote.score(X_val, y_val)\n"
   ]
  },
  {
   "cell_type": "code",
   "execution_count": 43,
   "metadata": {},
   "outputs": [
    {
     "data": {
      "text/plain": [
       "0.9676190476190476"
      ]
     },
     "execution_count": 43,
     "metadata": {},
     "output_type": "execute_result"
    }
   ],
   "source": [
    "hard_vote = VotingClassifier(\n",
    "    [\n",
    "        (\n",
    "            \"for\",\n",
    "            RandomForestClassifier(\n",
    "                bootstrap=True, oob_score=True, n_jobs=-1, random_state=2\n",
    "            ),\n",
    "        ),\n",
    "        (\n",
    "            \"ext\",\n",
    "            ExtraTreesClassifier(\n",
    "                bootstrap=True, oob_score=True, n_jobs=-1, random_state=26\n",
    "            ),\n",
    "        ),\n",
    "        # ('svc', make_pipeline(StandardScaler(), LinearSVC(random_state=4))),\n",
    "        (\n",
    "            \"logreg\",\n",
    "            make_pipeline(\n",
    "                StandardScaler(), LogisticRegression(random_state=45, max_iter=1000)\n",
    "            ),\n",
    "        ),\n",
    "    ],\n",
    "    voting=\"hard\",\n",
    "    n_jobs=-1,\n",
    ")\n",
    "\n",
    "hard_vote.fit(X_train, y_train)\n",
    "hard_vote.score(X_val, y_val)\n"
   ]
  },
  {
   "cell_type": "code",
   "execution_count": 51,
   "metadata": {},
   "outputs": [
    {
     "data": {
      "text/plain": [
       "0.969047619047619"
      ]
     },
     "execution_count": 51,
     "metadata": {},
     "output_type": "execute_result"
    }
   ],
   "source": [
    "hard_vote.score(X_test, y_test)\n"
   ]
  },
  {
   "cell_type": "code",
   "execution_count": 52,
   "metadata": {},
   "outputs": [
    {
     "data": {
      "text/plain": [
       "0.9486666666666667"
      ]
     },
     "execution_count": 52,
     "metadata": {},
     "output_type": "execute_result"
    }
   ],
   "source": [
    "soft_vote.score(X_test, y_test)\n"
   ]
  },
  {
   "cell_type": "code",
   "execution_count": 45,
   "metadata": {},
   "outputs": [
    {
     "data": {
      "text/plain": [
       "[0.9697142857142858,\n",
       " 0.9692380952380952,\n",
       " 0.11161904761904762,\n",
       " 0.9122857142857143]"
      ]
     },
     "execution_count": 45,
     "metadata": {},
     "output_type": "execute_result"
    }
   ],
   "source": [
    "[estimator.score(X_test, y_test) for estimator in estimators]\n"
   ]
  },
  {
   "cell_type": "code",
   "execution_count": 50,
   "metadata": {},
   "outputs": [
    {
     "data": {
      "text/plain": [
       "[0.9697142857142858, 0.9692380952380952, 0.9122857142857143]"
      ]
     },
     "execution_count": 50,
     "metadata": {},
     "output_type": "execute_result"
    }
   ],
   "source": [
    "[\n",
    "    estimator.score(X_test, y_test.astype(np.int64))\n",
    "    for estimator in hard_vote.estimators_\n",
    "]\n"
   ]
  },
  {
   "attachments": {},
   "cell_type": "markdown",
   "metadata": {},
   "source": [
    "# EXERCISE 9\n"
   ]
  },
  {
   "cell_type": "code",
   "execution_count": 64,
   "metadata": {},
   "outputs": [],
   "source": [
    "X_for_train = for_clf.predict(X_train)\n",
    "X_ext_train = ext_clf.predict(X_train)\n",
    "X_log_train = logreg.predict(X_train)\n",
    "\n",
    "X_blend_train = np.concatenate(\n",
    "    [X_for_train[:, None], X_ext_train[:, None], X_log_train[:, None]], axis=1\n",
    ")\n"
   ]
  },
  {
   "cell_type": "code",
   "execution_count": 65,
   "metadata": {},
   "outputs": [],
   "source": [
    "X_for_test = for_clf.predict(X_test)\n",
    "X_ext_test = ext_clf.predict(X_test)\n",
    "X_log_test = logreg.predict(X_test)\n",
    "\n",
    "X_blend_test = np.concatenate(\n",
    "    (X_for_test[:, None], X_ext_test[:, None], X_log_test[:, None]), axis=1\n",
    ")\n"
   ]
  },
  {
   "cell_type": "code",
   "execution_count": 70,
   "metadata": {},
   "outputs": [
    {
     "data": {
      "text/plain": [
       "0.4901904761904762"
      ]
     },
     "execution_count": 70,
     "metadata": {},
     "output_type": "execute_result"
    }
   ],
   "source": [
    "from sklearn.linear_model import SGDClassifier\n",
    "\n",
    "sgd_clf = make_pipeline(\n",
    "    StandardScaler(),\n",
    "    SGDClassifier(\n",
    "        loss=\"squared_hinge\",\n",
    "        alpha=0.0001,\n",
    "        n_jobs=-1,\n",
    "        random_state=345,\n",
    "        early_stopping=False,\n",
    "    ),\n",
    ").fit(X_blend_train, y_train)\n",
    "sgd_clf.score(X_blend_test, y_test)\n"
   ]
  },
  {
   "cell_type": "code",
   "execution_count": 74,
   "metadata": {},
   "outputs": [
    {
     "data": {
      "text/plain": [
       "0.9693333333333334"
      ]
     },
     "execution_count": 74,
     "metadata": {},
     "output_type": "execute_result"
    }
   ],
   "source": [
    "rnd_for_blend = RandomForestClassifier(\n",
    "    random_state=34, oob_score=True, n_jobs=-1, n_estimators=250\n",
    ").fit(X_blend_train, y_train)\n",
    "rnd_for_blend.score(X_blend_test, y_test)\n"
   ]
  },
  {
   "cell_type": "code",
   "execution_count": 75,
   "metadata": {},
   "outputs": [
    {
     "data": {
      "text/plain": [
       "1.0"
      ]
     },
     "execution_count": 75,
     "metadata": {},
     "output_type": "execute_result"
    }
   ],
   "source": [
    "rnd_for_blend.oob_score_\n"
   ]
  },
  {
   "cell_type": "code",
   "execution_count": 76,
   "metadata": {},
   "outputs": [
    {
     "data": {
      "text/plain": [
       "array([[0., 0., 0., ..., 0., 0., 0.],\n",
       "       [0., 0., 0., ..., 0., 0., 0.],\n",
       "       [0., 0., 1., ..., 0., 0., 0.],\n",
       "       ...,\n",
       "       [0., 0., 0., ..., 1., 0., 0.],\n",
       "       [0., 0., 0., ..., 0., 0., 0.],\n",
       "       [0., 0., 0., ..., 0., 0., 0.]])"
      ]
     },
     "execution_count": 76,
     "metadata": {},
     "output_type": "execute_result"
    }
   ],
   "source": [
    "rnd_for_blend.oob_decision_function_\n"
   ]
  },
  {
   "cell_type": "code",
   "execution_count": 78,
   "metadata": {},
   "outputs": [
    {
     "data": {
      "text/plain": [
       "[RandomForestClassifier(n_jobs=-1, oob_score=True, random_state=2),\n",
       " ExtraTreesClassifier(bootstrap=True, n_jobs=-1, oob_score=True, random_state=26),\n",
       " Pipeline(steps=[('standardscaler', StandardScaler()),\n",
       "                 ('logisticregression',\n",
       "                  LogisticRegression(max_iter=1000, random_state=45))])]"
      ]
     },
     "execution_count": 78,
     "metadata": {},
     "output_type": "execute_result"
    }
   ],
   "source": [
    "hard_vote.estimators_\n"
   ]
  },
  {
   "cell_type": "code",
   "execution_count": 80,
   "metadata": {},
   "outputs": [],
   "source": [
    "estimators = [\n",
    "    (\n",
    "        \"for\",\n",
    "        RandomForestClassifier(\n",
    "            bootstrap=True, oob_score=True, n_jobs=-1, random_state=2\n",
    "        ),\n",
    "    ),\n",
    "    (\n",
    "        \"ext\",\n",
    "        ExtraTreesClassifier(\n",
    "            bootstrap=True, oob_score=True, n_jobs=-1, random_state=26\n",
    "        ),\n",
    "    ),\n",
    "    # ('svc', make_pipeline(StandardScaler(), LinearSVC(random_state=4))),\n",
    "    (\n",
    "        \"logreg\",\n",
    "        make_pipeline(\n",
    "            StandardScaler(), LogisticRegression(random_state=45, max_iter=1000)\n",
    "        ),\n",
    "    ),\n",
    "]\n"
   ]
  },
  {
   "cell_type": "code",
   "execution_count": 82,
   "metadata": {},
   "outputs": [
    {
     "data": {
      "text/plain": [
       "0.9960952380952381"
      ]
     },
     "execution_count": 82,
     "metadata": {},
     "output_type": "execute_result"
    }
   ],
   "source": [
    "from sklearn.ensemble import StackingClassifier\n",
    "\n",
    "\n",
    "stack_clf = StackingClassifier(\n",
    "    estimators=estimators,\n",
    "    cv=10,\n",
    "    stack_method=\"auto\",\n",
    "    n_jobs=-1,\n",
    "    final_estimator=rnd_for_blend,\n",
    ").fit(X[:60000], y[:60000])\n",
    "stack_clf.score(X_test, y_test)\n"
   ]
  },
  {
   "cell_type": "code",
   "execution_count": null,
   "metadata": {},
   "outputs": [],
   "source": []
  }
 ],
 "metadata": {
  "kernelspec": {
   "display_name": "homl3",
   "language": "python",
   "name": "python3"
  },
  "language_info": {
   "codemirror_mode": {
    "name": "ipython",
    "version": 3
   },
   "file_extension": ".py",
   "mimetype": "text/x-python",
   "name": "python",
   "nbconvert_exporter": "python",
   "pygments_lexer": "ipython3",
   "version": "3.10.9"
  },
  "orig_nbformat": 4,
  "vscode": {
   "interpreter": {
    "hash": "c81e4a6c5f7e248d75c6c38a141b7c1ec6a2fafe4727e35f2dfb4eee98841de6"
   }
  }
 },
 "nbformat": 4,
 "nbformat_minor": 2
}
