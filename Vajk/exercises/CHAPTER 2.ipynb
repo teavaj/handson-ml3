{
 "cells": [
  {
   "cell_type": "code",
   "execution_count": 1,
   "metadata": {},
   "outputs": [],
   "source": [
    "import pandas as pd\n",
    "import numpy as np\n",
    "import plotly.express as px\n",
    "import plotly.figure_factory as ff\n",
    "from scipy import stats\n",
    "\n",
    "from sklearn.model_selection import train_test_split\n",
    "from sklearn.model_selection import StratifiedShuffleSplit\n",
    "from sklearn.impute import SimpleImputer\n",
    "from sklearn.preprocessing import OrdinalEncoder, OneHotEncoder\n",
    "from sklearn.pipeline import Pipeline\n",
    "from sklearn.metrics import mean_squared_error\n",
    "from sklearn.model_selection import cross_val_score\n",
    "from sklearn.model_selection import GridSearchCV\n",
    "from sklearn.model_selection import RandomizedSearchCV\n",
    "from sklearn.compose import ColumnTransformer\n",
    "from sklearn.base import BaseEstimator, TransformerMixin\n",
    "from sklearn.preprocessing import StandardScaler, MinMaxScaler\n",
    "from sklearn.svm import SVR\n",
    "\n",
    "import datetime"
   ]
  },
  {
   "cell_type": "code",
   "execution_count": 2,
   "metadata": {},
   "outputs": [
    {
     "data": {
      "text/html": [
       "<div>\n",
       "<style scoped>\n",
       "    .dataframe tbody tr th:only-of-type {\n",
       "        vertical-align: middle;\n",
       "    }\n",
       "\n",
       "    .dataframe tbody tr th {\n",
       "        vertical-align: top;\n",
       "    }\n",
       "\n",
       "    .dataframe thead th {\n",
       "        text-align: right;\n",
       "    }\n",
       "</style>\n",
       "<table border=\"1\" class=\"dataframe\">\n",
       "  <thead>\n",
       "    <tr style=\"text-align: right;\">\n",
       "      <th></th>\n",
       "      <th>User country</th>\n",
       "      <th>Nr. reviews</th>\n",
       "      <th>Nr. hotel reviews</th>\n",
       "      <th>Helpful votes</th>\n",
       "      <th>Score</th>\n",
       "      <th>Period of stay</th>\n",
       "      <th>Traveler type</th>\n",
       "      <th>Pool</th>\n",
       "      <th>Gym</th>\n",
       "      <th>Tennis court</th>\n",
       "      <th>Spa</th>\n",
       "      <th>Casino</th>\n",
       "      <th>Free internet</th>\n",
       "      <th>Hotel name</th>\n",
       "      <th>Hotel stars</th>\n",
       "      <th>Nr. rooms</th>\n",
       "      <th>User continent</th>\n",
       "      <th>Member years</th>\n",
       "      <th>Review month</th>\n",
       "      <th>Review weekday</th>\n",
       "    </tr>\n",
       "  </thead>\n",
       "  <tbody>\n",
       "    <tr>\n",
       "      <th>0</th>\n",
       "      <td>USA</td>\n",
       "      <td>11</td>\n",
       "      <td>4</td>\n",
       "      <td>13</td>\n",
       "      <td>5</td>\n",
       "      <td>Dec-Feb</td>\n",
       "      <td>Friends</td>\n",
       "      <td>NO</td>\n",
       "      <td>YES</td>\n",
       "      <td>NO</td>\n",
       "      <td>NO</td>\n",
       "      <td>YES</td>\n",
       "      <td>YES</td>\n",
       "      <td>Circus Circus Hotel &amp; Casino Las Vegas</td>\n",
       "      <td>3.0</td>\n",
       "      <td>3773</td>\n",
       "      <td>North America</td>\n",
       "      <td>9</td>\n",
       "      <td>January</td>\n",
       "      <td>Thursday</td>\n",
       "    </tr>\n",
       "    <tr>\n",
       "      <th>1</th>\n",
       "      <td>USA</td>\n",
       "      <td>119</td>\n",
       "      <td>21</td>\n",
       "      <td>75</td>\n",
       "      <td>3</td>\n",
       "      <td>Dec-Feb</td>\n",
       "      <td>Business</td>\n",
       "      <td>NO</td>\n",
       "      <td>YES</td>\n",
       "      <td>NO</td>\n",
       "      <td>NO</td>\n",
       "      <td>YES</td>\n",
       "      <td>YES</td>\n",
       "      <td>Circus Circus Hotel &amp; Casino Las Vegas</td>\n",
       "      <td>3.0</td>\n",
       "      <td>3773</td>\n",
       "      <td>North America</td>\n",
       "      <td>3</td>\n",
       "      <td>January</td>\n",
       "      <td>Friday</td>\n",
       "    </tr>\n",
       "    <tr>\n",
       "      <th>2</th>\n",
       "      <td>USA</td>\n",
       "      <td>36</td>\n",
       "      <td>9</td>\n",
       "      <td>25</td>\n",
       "      <td>5</td>\n",
       "      <td>Mar-May</td>\n",
       "      <td>Families</td>\n",
       "      <td>NO</td>\n",
       "      <td>YES</td>\n",
       "      <td>NO</td>\n",
       "      <td>NO</td>\n",
       "      <td>YES</td>\n",
       "      <td>YES</td>\n",
       "      <td>Circus Circus Hotel &amp; Casino Las Vegas</td>\n",
       "      <td>3.0</td>\n",
       "      <td>3773</td>\n",
       "      <td>North America</td>\n",
       "      <td>2</td>\n",
       "      <td>February</td>\n",
       "      <td>Saturday</td>\n",
       "    </tr>\n",
       "    <tr>\n",
       "      <th>3</th>\n",
       "      <td>UK</td>\n",
       "      <td>14</td>\n",
       "      <td>7</td>\n",
       "      <td>14</td>\n",
       "      <td>4</td>\n",
       "      <td>Mar-May</td>\n",
       "      <td>Friends</td>\n",
       "      <td>NO</td>\n",
       "      <td>YES</td>\n",
       "      <td>NO</td>\n",
       "      <td>NO</td>\n",
       "      <td>YES</td>\n",
       "      <td>YES</td>\n",
       "      <td>Circus Circus Hotel &amp; Casino Las Vegas</td>\n",
       "      <td>3.0</td>\n",
       "      <td>3773</td>\n",
       "      <td>Europe</td>\n",
       "      <td>6</td>\n",
       "      <td>February</td>\n",
       "      <td>Friday</td>\n",
       "    </tr>\n",
       "    <tr>\n",
       "      <th>4</th>\n",
       "      <td>Canada</td>\n",
       "      <td>5</td>\n",
       "      <td>5</td>\n",
       "      <td>2</td>\n",
       "      <td>4</td>\n",
       "      <td>Mar-May</td>\n",
       "      <td>Solo</td>\n",
       "      <td>NO</td>\n",
       "      <td>YES</td>\n",
       "      <td>NO</td>\n",
       "      <td>NO</td>\n",
       "      <td>YES</td>\n",
       "      <td>YES</td>\n",
       "      <td>Circus Circus Hotel &amp; Casino Las Vegas</td>\n",
       "      <td>3.0</td>\n",
       "      <td>3773</td>\n",
       "      <td>North America</td>\n",
       "      <td>7</td>\n",
       "      <td>March</td>\n",
       "      <td>Tuesday</td>\n",
       "    </tr>\n",
       "  </tbody>\n",
       "</table>\n",
       "</div>"
      ],
      "text/plain": [
       "  User country  Nr. reviews  Nr. hotel reviews  Helpful votes  Score  \\\n",
       "0          USA           11                  4             13      5   \n",
       "1          USA          119                 21             75      3   \n",
       "2          USA           36                  9             25      5   \n",
       "3           UK           14                  7             14      4   \n",
       "4       Canada            5                  5              2      4   \n",
       "\n",
       "  Period of stay Traveler type Pool  Gym Tennis court Spa Casino  \\\n",
       "0        Dec-Feb       Friends   NO  YES           NO  NO    YES   \n",
       "1        Dec-Feb      Business   NO  YES           NO  NO    YES   \n",
       "2        Mar-May      Families   NO  YES           NO  NO    YES   \n",
       "3        Mar-May       Friends   NO  YES           NO  NO    YES   \n",
       "4        Mar-May          Solo   NO  YES           NO  NO    YES   \n",
       "\n",
       "  Free internet                              Hotel name  Hotel stars  \\\n",
       "0           YES  Circus Circus Hotel & Casino Las Vegas          3.0   \n",
       "1           YES  Circus Circus Hotel & Casino Las Vegas          3.0   \n",
       "2           YES  Circus Circus Hotel & Casino Las Vegas          3.0   \n",
       "3           YES  Circus Circus Hotel & Casino Las Vegas          3.0   \n",
       "4           YES  Circus Circus Hotel & Casino Las Vegas          3.0   \n",
       "\n",
       "   Nr. rooms User continent  Member years Review month Review weekday  \n",
       "0       3773  North America             9      January       Thursday  \n",
       "1       3773  North America             3      January         Friday  \n",
       "2       3773  North America             2     February       Saturday  \n",
       "3       3773         Europe             6     February         Friday  \n",
       "4       3773  North America             7        March        Tuesday  "
      ]
     },
     "execution_count": 2,
     "metadata": {},
     "output_type": "execute_result"
    }
   ],
   "source": [
    "vegas_df = pd.read_csv('LasVegasTripAdvisorReviews-Dataset.csv', delimiter=';', decimal=',')\n",
    "vegas_df.head()"
   ]
  },
  {
   "cell_type": "code",
   "execution_count": 3,
   "metadata": {},
   "outputs": [],
   "source": [
    "# def DurationOfStay(dataframe):\n",
    "#     data = dataframe.copy()\n",
    "#     # vegas_prep = vegas_df.copy()\n",
    "#     data['Stay Started'] = data['Period of stay'].str.partition('-')[0]\n",
    "#     data['Stay Ended'] = data['Period of stay'].str.partition('-')[2]\n",
    "#     data['Duration of Stay'] = \"\"\n",
    "\n",
    "#     for i, r in data.iterrows():\n",
    "    \n",
    "#         data['Stay Started'][i] = datetime.datetime.strptime(r['Stay Started'], '%b').month\n",
    "#         data['Stay Ended'][i] = datetime.datetime.strptime(r['Stay Ended'], '%b').month\n",
    "\n",
    "#         if data['Stay Started'][i] < data['Stay Ended'][i]:\n",
    "#             data['Duration of Stay'][i] = np.abs(data['Stay Started'][i] - data['Stay Ended'][i]) + 1\n",
    "#         else:\n",
    "#             data['Duration of Stay'][i] = np.abs(data['Stay Started'][i] - (data['Stay Ended'][i] + 12)) + 1\n",
    "\n",
    "#     return data\n",
    "\n",
    "# vegas_prep = DurationOfStay(vegas_df)\n",
    "# vegas_prep.head()\n"
   ]
  },
  {
   "cell_type": "code",
   "execution_count": 4,
   "metadata": {},
   "outputs": [
    {
     "data": {
      "text/plain": [
       "North America    295\n",
       "Europe           118\n",
       "Oceania           41\n",
       "Asia              36\n",
       "Africa             7\n",
       "South America      7\n",
       "Name: User continent, dtype: int64"
      ]
     },
     "execution_count": 4,
     "metadata": {},
     "output_type": "execute_result"
    }
   ],
   "source": [
    "vegas_df['User continent'].value_counts()"
   ]
  },
  {
   "cell_type": "code",
   "execution_count": 5,
   "metadata": {},
   "outputs": [
    {
     "data": {
      "text/plain": [
       "array([[<AxesSubplot:title={'center':'Nr. reviews'}>,\n",
       "        <AxesSubplot:title={'center':'Nr. hotel reviews'}>,\n",
       "        <AxesSubplot:title={'center':'Helpful votes'}>],\n",
       "       [<AxesSubplot:title={'center':'Score'}>,\n",
       "        <AxesSubplot:title={'center':'Hotel stars'}>,\n",
       "        <AxesSubplot:title={'center':'Nr. rooms'}>],\n",
       "       [<AxesSubplot:title={'center':'Member years'}>, <AxesSubplot:>,\n",
       "        <AxesSubplot:>]], dtype=object)"
      ]
     },
     "execution_count": 5,
     "metadata": {},
     "output_type": "execute_result"
    },
    {
     "data": {
      "image/png": "[encoded data removed]",
      "text/plain": [
       "<Figure size 1440x1080 with 9 Axes>"
      ]
     },
     "metadata": {
      "needs_background": "light"
     },
     "output_type": "display_data"
    }
   ],
   "source": [
    "vegas_df.hist(bins=50, figsize=(20,15))"
   ]
  },
  {
   "cell_type": "code",
   "execution_count": 6,
   "metadata": {},
   "outputs": [],
   "source": [
    "train_set, test_set = train_test_split(vegas_df, test_size=0.2, random_state=69)"
   ]
  },
  {
   "cell_type": "code",
   "execution_count": 7,
   "metadata": {},
   "outputs": [
    {
     "data": {
      "text/plain": [
       "Nr. rooms           -0.080200\n",
       "Member years        -0.036190\n",
       "Nr. reviews         -0.024320\n",
       "Nr. hotel reviews    0.013718\n",
       "Helpful votes        0.015472\n",
       "Hotel stars          0.191490\n",
       "Score                1.000000\n",
       "Name: Score, dtype: float64"
      ]
     },
     "execution_count": 7,
     "metadata": {},
     "output_type": "execute_result"
    }
   ],
   "source": [
    "corr_matrix = vegas_df.corr()\n",
    "corr_matrix['Score'].sort_values()"
   ]
  },
  {
   "cell_type": "code",
   "execution_count": 8,
   "metadata": {},
   "outputs": [
    {
     "name": "stdout",
     "output_type": "stream",
     "text": [
      "<class 'pandas.core.frame.DataFrame'>\n",
      "RangeIndex: 504 entries, 0 to 503\n",
      "Data columns (total 20 columns):\n",
      " #   Column             Non-Null Count  Dtype  \n",
      "---  ------             --------------  -----  \n",
      " 0   User country       504 non-null    object \n",
      " 1   Nr. reviews        504 non-null    int64  \n",
      " 2   Nr. hotel reviews  504 non-null    int64  \n",
      " 3   Helpful votes      504 non-null    int64  \n",
      " 4   Score              504 non-null    int64  \n",
      " 5   Period of stay     504 non-null    object \n",
      " 6   Traveler type      504 non-null    object \n",
      " 7   Pool               504 non-null    object \n",
      " 8   Gym                504 non-null    object \n",
      " 9   Tennis court       504 non-null    object \n",
      " 10  Spa                504 non-null    object \n",
      " 11  Casino             504 non-null    object \n",
      " 12  Free internet      504 non-null    object \n",
      " 13  Hotel name         504 non-null    object \n",
      " 14  Hotel stars        504 non-null    float64\n",
      " 15  Nr. rooms          504 non-null    int64  \n",
      " 16  User continent     504 non-null    object \n",
      " 17  Member years       504 non-null    int64  \n",
      " 18  Review month       504 non-null    object \n",
      " 19  Review weekday     504 non-null    object \n",
      "dtypes: float64(1), int64(6), object(13)\n",
      "memory usage: 78.9+ KB\n"
     ]
    }
   ],
   "source": [
    "vegas_df.info()"
   ]
  },
  {
   "cell_type": "code",
   "execution_count": 9,
   "metadata": {},
   "outputs": [
    {
     "data": {
      "text/plain": [
       "Index(['User country', 'Nr. reviews', 'Nr. hotel reviews', 'Helpful votes',\n",
       "       'Score', 'Period of stay', 'Traveler type', 'Pool', 'Gym',\n",
       "       'Tennis court', 'Spa', 'Casino', 'Free internet', 'Hotel name',\n",
       "       'Hotel stars', 'Nr. rooms', 'User continent', 'Member years',\n",
       "       'Review month', 'Review weekday'],\n",
       "      dtype='object')"
      ]
     },
     "execution_count": 9,
     "metadata": {},
     "output_type": "execute_result"
    }
   ],
   "source": [
    "vegas_df.columns"
   ]
  },
  {
   "cell_type": "code",
   "execution_count": 10,
   "metadata": {},
   "outputs": [
    {
     "data": {
      "text/plain": [
       "array([[3., 1., 1., 0., 1., 1., 1., 2.],\n",
       "       [2., 1., 1., 0., 0., 0., 1., 3.],\n",
       "       [0., 1., 1., 0., 1., 1., 1., 2.],\n",
       "       [3., 1., 1., 0., 0., 0., 1., 3.],\n",
       "       [1., 1., 1., 0., 1., 1., 1., 3.],\n",
       "       [2., 0., 1., 0., 0., 1., 1., 3.],\n",
       "       [0., 1., 1., 0., 0., 0., 1., 3.],\n",
       "       [0., 1., 1., 1., 1., 1., 1., 3.],\n",
       "       [0., 1., 1., 0., 0., 1., 1., 3.],\n",
       "       [3., 0., 1., 0., 0., 1., 1., 4.]])"
      ]
     },
     "execution_count": 10,
     "metadata": {},
     "output_type": "execute_result"
    }
   ],
   "source": [
    "vegas_num = train_set[['Nr. reviews', 'Nr. hotel reviews', 'Helpful votes', 'Hotel stars', 'Nr. rooms', 'Member years']]\n",
    "num_attribs = ['Nr. reviews', 'Nr. hotel reviews', 'Helpful votes', 'Hotel stars', 'Nr. rooms', 'Member years']\n",
    "vegas_cat = train_set[['Traveler type', 'Pool', 'Gym', 'Tennis court', 'Spa', 'Casino', 'Free internet', 'User continent']]\n",
    "cat_attribs = ['Traveler type', 'Pool', 'Gym', 'Tennis court', 'Spa', 'Casino', 'Free internet']\n",
    "label_set = train_set['Score']\n",
    "\n",
    "ordinal_encoder = OrdinalEncoder()\n",
    "vegas_cat_encoded = ordinal_encoder.fit_transform(vegas_cat)\n",
    "vegas_cat_encoded[:10]"
   ]
  },
  {
   "cell_type": "code",
   "execution_count": 11,
   "metadata": {},
   "outputs": [],
   "source": [
    "class  CatTransform(BaseEstimator, TransformerMixin):    \n",
    "    def __init__(self):\n",
    "        return print('kuki')\n",
    "\n",
    "    def fit(self, X, y=None):\n",
    "        return self\n",
    "\n",
    "    def transform(self, X, y=None):\n",
    "        data = X.copy()\n",
    "        # vegas_prep = vegas_df.copy()\n",
    "        data['Stay Started'] = data['Period of stay'].str.partition('-')[0]\n",
    "        data['Stay Ended'] = data['Period of stay'].str.partition('-')[2]\n",
    "        data['Duration of Stay'] = \"\"\n",
    "        data.drop(['Period of stay'], axis=1, inplace=True)\n",
    "\n",
    "        for i, r in data.iterrows():\n",
    "        # r['Stay Started'][i] = datetime.datetime.strptime(vegas_df['Stay Started'][i], '%b').month\n",
    "            data['Stay Started'][i] = datetime.datetime.strptime(r['Stay Started'], '%b').month\n",
    "            data['Stay Ended'][i] = datetime.datetime.strptime(r['Stay Ended'], '%b').month\n",
    "\n",
    "            if data['Stay Started'][i] < data['Stay Ended'][i]:\n",
    "                data['Duration of Stay'][i] = np.abs(data['Stay Started'][i] - data['Stay Ended'][i]) + 1\n",
    "            else:\n",
    "                data['Duration of Stay'][i] = np.abs(data['Stay Started'][i] - (data['Stay Ended'][i] + 12)) + 1\n",
    "\n",
    "            if data['User continent'][i] != 'North America':\n",
    "                data['User continent'][i] = 0\n",
    "\n",
    "            else:\n",
    "                data['User continent'][i] = 1\n",
    "\n",
    "        return data\n",
    "\n",
    "\n"
   ]
  },
  {
   "cell_type": "code",
   "execution_count": null,
   "metadata": {},
   "outputs": [],
   "source": []
  },
  {
   "cell_type": "code",
   "execution_count": 12,
   "metadata": {},
   "outputs": [
    {
     "name": "stdout",
     "output_type": "stream",
     "text": [
      "kuki\n"
     ]
    }
   ],
   "source": [
    "pipe = Pipeline([\n",
    "    ('test', CatTransform()),\n",
    "    \n",
    "])\n",
    "\n",
    "segg = pipe.fit_transform(train_set)"
   ]
  },
  {
   "cell_type": "code",
   "execution_count": 13,
   "metadata": {},
   "outputs": [
    {
     "name": "stdout",
     "output_type": "stream",
     "text": [
      "kuki\n",
      "kuki\n",
      "kuki\n",
      "kuki\n"
     ]
    }
   ],
   "source": [
    "pipline_imputer = ColumnTransformer([\n",
    "    ('nums', SimpleImputer(), num_attribs),\n",
    "    ('new_cols', CatTransform(), ['Period of stay', 'User continent'] ),\n",
    "    ('cat_encoding', OrdinalEncoder(), cat_attribs)\n",
    "])\n",
    "\n",
    "vegas_imputer = pipline_imputer.fit_transform(train_set)\n",
    "\n",
    "pipline_scaled = ColumnTransformer([\n",
    "    ('nums', MinMaxScaler(), num_attribs),\n",
    "    ('new_cols', CatTransform(), ['Period of stay', 'User continent'] ),\n",
    "    ('cat_encoding', OrdinalEncoder(), cat_attribs)\n",
    "])\n",
    "\n",
    "vegas_scaled = pipline_scaled.fit_transform(train_set)"
   ]
  },
  {
   "cell_type": "code",
   "execution_count": null,
   "metadata": {},
   "outputs": [],
   "source": []
  },
  {
   "cell_type": "markdown",
   "metadata": {},
   "source": [
    "1"
   ]
  },
  {
   "cell_type": "code",
   "execution_count": 14,
   "metadata": {},
   "outputs": [],
   "source": [
    "param_svr = [\n",
    "    {'kernel':['linear'], 'C': [2, 20, 50]},\n",
    "    {'kernel': ['rbf'], 'C':[3, 30, 90], 'gamma':[0.01, 0.1, 1, 10]}\n",
    "]\n",
    "\n",
    "# vegas_scaled_test = vegas_scaled[:300]\n",
    "# vegas_imputer_test = vegas_imputer[:300]\n",
    "# label_set = label_set[:300]\n"
   ]
  },
  {
   "cell_type": "code",
   "execution_count": 15,
   "metadata": {},
   "outputs": [],
   "source": [
    "svm_reg = SVR()"
   ]
  },
  {
   "cell_type": "code",
   "execution_count": 16,
   "metadata": {},
   "outputs": [],
   "source": [
    "\n",
    "\n",
    "# grid_search_imputer = GridSearchCV(svm_reg, param_svr, cv=3, scoring='neg_mean_squared_error', verbose=2)\n",
    "# grid_search_imputer.fit(vegas_imputer_test, label_set )\n",
    "# print(grid_search_imputer.best_params_, grid_search_imputer.best_estimator_)"
   ]
  },
  {
   "cell_type": "code",
   "execution_count": 23,
   "metadata": {},
   "outputs": [
    {
     "name": "stdout",
     "output_type": "stream",
     "text": [
      "Fitting 5 folds for each of 15 candidates, totalling 75 fits\n",
      "[CV] END .................................C=2, kernel=linear; total time=   0.0s\n",
      "[CV] END .................................C=2, kernel=linear; total time=   0.0s\n",
      "[CV] END .................................C=2, kernel=linear; total time=   0.0s\n",
      "[CV] END .................................C=2, kernel=linear; total time=   0.0s\n",
      "[CV] END .................................C=2, kernel=linear; total time=   0.0s\n",
      "[CV] END ................................C=20, kernel=linear; total time=   0.0s\n",
      "[CV] END ................................C=20, kernel=linear; total time=   0.1s\n",
      "[CV] END ................................C=20, kernel=linear; total time=   0.0s\n",
      "[CV] END ................................C=20, kernel=linear; total time=   0.0s\n",
      "[CV] END ................................C=20, kernel=linear; total time=   0.0s\n",
      "[CV] END ................................C=50, kernel=linear; total time=   0.2s\n",
      "[CV] END ................................C=50, kernel=linear; total time=   0.2s\n",
      "[CV] END ................................C=50, kernel=linear; total time=   0.1s\n",
      "[CV] END ................................C=50, kernel=linear; total time=   0.1s\n",
      "[CV] END ................................C=50, kernel=linear; total time=   0.1s\n",
      "[CV] END ........................C=3, gamma=0.01, kernel=rbf; total time=   0.0s\n",
      "[CV] END ........................C=3, gamma=0.01, kernel=rbf; total time=   0.0s\n",
      "[CV] END ........................C=3, gamma=0.01, kernel=rbf; total time=   0.0s\n",
      "[CV] END ........................C=3, gamma=0.01, kernel=rbf; total time=   0.0s\n",
      "[CV] END ........................C=3, gamma=0.01, kernel=rbf; total time=   0.0s\n",
      "[CV] END .........................C=3, gamma=0.1, kernel=rbf; total time=   0.0s\n",
      "[CV] END .........................C=3, gamma=0.1, kernel=rbf; total time=   0.0s\n",
      "[CV] END .........................C=3, gamma=0.1, kernel=rbf; total time=   0.0s\n",
      "[CV] END .........................C=3, gamma=0.1, kernel=rbf; total time=   0.0s\n",
      "[CV] END .........................C=3, gamma=0.1, kernel=rbf; total time=   0.0s\n",
      "[CV] END ...........................C=3, gamma=1, kernel=rbf; total time=   0.0s\n",
      "[CV] END ...........................C=3, gamma=1, kernel=rbf; total time=   0.0s\n",
      "[CV] END ...........................C=3, gamma=1, kernel=rbf; total time=   0.0s\n",
      "[CV] END ...........................C=3, gamma=1, kernel=rbf; total time=   0.0s\n",
      "[CV] END ...........................C=3, gamma=1, kernel=rbf; total time=   0.0s\n",
      "[CV] END ..........................C=3, gamma=10, kernel=rbf; total time=   0.0s\n",
      "[CV] END ..........................C=3, gamma=10, kernel=rbf; total time=   0.0s\n",
      "[CV] END ..........................C=3, gamma=10, kernel=rbf; total time=   0.0s\n",
      "[CV] END ..........................C=3, gamma=10, kernel=rbf; total time=   0.0s\n",
      "[CV] END ..........................C=3, gamma=10, kernel=rbf; total time=   0.0s\n",
      "[CV] END .......................C=30, gamma=0.01, kernel=rbf; total time=   0.0s\n",
      "[CV] END .......................C=30, gamma=0.01, kernel=rbf; total time=   0.0s\n",
      "[CV] END .......................C=30, gamma=0.01, kernel=rbf; total time=   0.0s\n",
      "[CV] END .......................C=30, gamma=0.01, kernel=rbf; total time=   0.0s\n",
      "[CV] END .......................C=30, gamma=0.01, kernel=rbf; total time=   0.0s\n",
      "[CV] END ........................C=30, gamma=0.1, kernel=rbf; total time=   0.0s\n",
      "[CV] END ........................C=30, gamma=0.1, kernel=rbf; total time=   0.0s\n",
      "[CV] END ........................C=30, gamma=0.1, kernel=rbf; total time=   0.0s\n",
      "[CV] END ........................C=30, gamma=0.1, kernel=rbf; total time=   0.0s\n",
      "[CV] END ........................C=30, gamma=0.1, kernel=rbf; total time=   0.0s\n",
      "[CV] END ..........................C=30, gamma=1, kernel=rbf; total time=   0.0s\n",
      "[CV] END ..........................C=30, gamma=1, kernel=rbf; total time=   0.0s\n",
      "[CV] END ..........................C=30, gamma=1, kernel=rbf; total time=   0.0s\n",
      "[CV] END ..........................C=30, gamma=1, kernel=rbf; total time=   0.0s\n",
      "[CV] END ..........................C=30, gamma=1, kernel=rbf; total time=   0.0s\n",
      "[CV] END .........................C=30, gamma=10, kernel=rbf; total time=   0.0s\n",
      "[CV] END .........................C=30, gamma=10, kernel=rbf; total time=   0.0s\n",
      "[CV] END .........................C=30, gamma=10, kernel=rbf; total time=   0.0s\n",
      "[CV] END .........................C=30, gamma=10, kernel=rbf; total time=   0.0s\n",
      "[CV] END .........................C=30, gamma=10, kernel=rbf; total time=   0.0s\n",
      "[CV] END .......................C=90, gamma=0.01, kernel=rbf; total time=   0.0s\n",
      "[CV] END .......................C=90, gamma=0.01, kernel=rbf; total time=   0.0s\n",
      "[CV] END .......................C=90, gamma=0.01, kernel=rbf; total time=   0.0s\n",
      "[CV] END .......................C=90, gamma=0.01, kernel=rbf; total time=   0.0s\n",
      "[CV] END .......................C=90, gamma=0.01, kernel=rbf; total time=   0.0s\n",
      "[CV] END ........................C=90, gamma=0.1, kernel=rbf; total time=   0.0s\n",
      "[CV] END ........................C=90, gamma=0.1, kernel=rbf; total time=   0.0s\n",
      "[CV] END ........................C=90, gamma=0.1, kernel=rbf; total time=   0.0s\n",
      "[CV] END ........................C=90, gamma=0.1, kernel=rbf; total time=   0.0s\n",
      "[CV] END ........................C=90, gamma=0.1, kernel=rbf; total time=   0.0s\n",
      "[CV] END ..........................C=90, gamma=1, kernel=rbf; total time=   0.0s\n",
      "[CV] END ..........................C=90, gamma=1, kernel=rbf; total time=   0.0s\n",
      "[CV] END ..........................C=90, gamma=1, kernel=rbf; total time=   0.0s\n",
      "[CV] END ..........................C=90, gamma=1, kernel=rbf; total time=   0.0s\n",
      "[CV] END ..........................C=90, gamma=1, kernel=rbf; total time=   0.0s\n",
      "[CV] END .........................C=90, gamma=10, kernel=rbf; total time=   0.0s\n",
      "[CV] END .........................C=90, gamma=10, kernel=rbf; total time=   0.0s\n",
      "[CV] END .........................C=90, gamma=10, kernel=rbf; total time=   0.0s\n",
      "[CV] END .........................C=90, gamma=10, kernel=rbf; total time=   0.0s\n",
      "[CV] END .........................C=90, gamma=10, kernel=rbf; total time=   0.0s\n",
      "{'C': 3, 'gamma': 0.1, 'kernel': 'rbf'} SVR(C=3, gamma=0.1)\n"
     ]
    }
   ],
   "source": [
    "grid_search_scaled = GridSearchCV(svm_reg, param_svr, cv=5, scoring='neg_mean_squared_error', verbose=2)\n",
    "grid_search_scaled.fit(vegas_scaled, label_set )\n",
    "print(grid_search_scaled.best_params_, grid_search_scaled.best_estimator_)"
   ]
  },
  {
   "cell_type": "code",
   "execution_count": 24,
   "metadata": {},
   "outputs": [
    {
     "name": "stdout",
     "output_type": "stream",
     "text": [
      "kuki\n",
      "kuki\n",
      "Fitting 5 folds for each of 15 candidates, totalling 75 fits\n",
      "[CV] END .................................C=2, kernel=linear; total time=   0.0s\n",
      "[CV] END .................................C=2, kernel=linear; total time=   0.0s\n",
      "[CV] END .................................C=2, kernel=linear; total time=   0.0s\n",
      "[CV] END .................................C=2, kernel=linear; total time=   0.0s\n",
      "[CV] END .................................C=2, kernel=linear; total time=   0.0s\n",
      "[CV] END ................................C=20, kernel=linear; total time=   0.1s\n",
      "[CV] END ................................C=20, kernel=linear; total time=   0.1s\n",
      "[CV] END ................................C=20, kernel=linear; total time=   0.0s\n",
      "[CV] END ................................C=20, kernel=linear; total time=   0.0s\n",
      "[CV] END ................................C=20, kernel=linear; total time=   0.1s\n",
      "[CV] END ................................C=50, kernel=linear; total time=   0.3s\n",
      "[CV] END ................................C=50, kernel=linear; total time=   0.3s\n",
      "[CV] END ................................C=50, kernel=linear; total time=   0.7s\n",
      "[CV] END ................................C=50, kernel=linear; total time=   0.4s\n",
      "[CV] END ................................C=50, kernel=linear; total time=   0.6s\n",
      "[CV] END ........................C=3, gamma=0.01, kernel=rbf; total time=   0.0s\n",
      "[CV] END ........................C=3, gamma=0.01, kernel=rbf; total time=   0.0s\n",
      "[CV] END ........................C=3, gamma=0.01, kernel=rbf; total time=   0.0s\n",
      "[CV] END ........................C=3, gamma=0.01, kernel=rbf; total time=   0.0s\n",
      "[CV] END ........................C=3, gamma=0.01, kernel=rbf; total time=   0.0s\n",
      "[CV] END .........................C=3, gamma=0.1, kernel=rbf; total time=   0.0s\n",
      "[CV] END .........................C=3, gamma=0.1, kernel=rbf; total time=   0.0s\n",
      "[CV] END .........................C=3, gamma=0.1, kernel=rbf; total time=   0.0s\n",
      "[CV] END .........................C=3, gamma=0.1, kernel=rbf; total time=   0.0s\n",
      "[CV] END .........................C=3, gamma=0.1, kernel=rbf; total time=   0.0s\n",
      "[CV] END ...........................C=3, gamma=1, kernel=rbf; total time=   0.0s\n",
      "[CV] END ...........................C=3, gamma=1, kernel=rbf; total time=   0.0s\n",
      "[CV] END ...........................C=3, gamma=1, kernel=rbf; total time=   0.0s\n",
      "[CV] END ...........................C=3, gamma=1, kernel=rbf; total time=   0.0s\n",
      "[CV] END ...........................C=3, gamma=1, kernel=rbf; total time=   0.0s\n",
      "[CV] END ..........................C=3, gamma=10, kernel=rbf; total time=   0.0s\n",
      "[CV] END ..........................C=3, gamma=10, kernel=rbf; total time=   0.0s\n",
      "[CV] END ..........................C=3, gamma=10, kernel=rbf; total time=   0.0s\n",
      "[CV] END ..........................C=3, gamma=10, kernel=rbf; total time=   0.0s\n",
      "[CV] END ..........................C=3, gamma=10, kernel=rbf; total time=   0.0s\n",
      "[CV] END .......................C=30, gamma=0.01, kernel=rbf; total time=   0.0s\n",
      "[CV] END .......................C=30, gamma=0.01, kernel=rbf; total time=   0.0s\n",
      "[CV] END .......................C=30, gamma=0.01, kernel=rbf; total time=   0.0s\n",
      "[CV] END .......................C=30, gamma=0.01, kernel=rbf; total time=   0.0s\n",
      "[CV] END .......................C=30, gamma=0.01, kernel=rbf; total time=   0.0s\n",
      "[CV] END ........................C=30, gamma=0.1, kernel=rbf; total time=   0.0s\n",
      "[CV] END ........................C=30, gamma=0.1, kernel=rbf; total time=   0.0s\n",
      "[CV] END ........................C=30, gamma=0.1, kernel=rbf; total time=   0.0s\n",
      "[CV] END ........................C=30, gamma=0.1, kernel=rbf; total time=   0.0s\n",
      "[CV] END ........................C=30, gamma=0.1, kernel=rbf; total time=   0.0s\n",
      "[CV] END ..........................C=30, gamma=1, kernel=rbf; total time=   0.0s\n",
      "[CV] END ..........................C=30, gamma=1, kernel=rbf; total time=   0.0s\n",
      "[CV] END ..........................C=30, gamma=1, kernel=rbf; total time=   0.0s\n",
      "[CV] END ..........................C=30, gamma=1, kernel=rbf; total time=   0.0s\n",
      "[CV] END ..........................C=30, gamma=1, kernel=rbf; total time=   0.0s\n",
      "[CV] END .........................C=30, gamma=10, kernel=rbf; total time=   0.0s\n",
      "[CV] END .........................C=30, gamma=10, kernel=rbf; total time=   0.0s\n",
      "[CV] END .........................C=30, gamma=10, kernel=rbf; total time=   0.0s\n",
      "[CV] END .........................C=30, gamma=10, kernel=rbf; total time=   0.0s\n",
      "[CV] END .........................C=30, gamma=10, kernel=rbf; total time=   0.0s\n",
      "[CV] END .......................C=90, gamma=0.01, kernel=rbf; total time=   0.0s\n",
      "[CV] END .......................C=90, gamma=0.01, kernel=rbf; total time=   0.0s\n",
      "[CV] END .......................C=90, gamma=0.01, kernel=rbf; total time=   0.0s\n",
      "[CV] END .......................C=90, gamma=0.01, kernel=rbf; total time=   0.0s\n",
      "[CV] END .......................C=90, gamma=0.01, kernel=rbf; total time=   0.0s\n",
      "[CV] END ........................C=90, gamma=0.1, kernel=rbf; total time=   0.0s\n",
      "[CV] END ........................C=90, gamma=0.1, kernel=rbf; total time=   0.0s\n",
      "[CV] END ........................C=90, gamma=0.1, kernel=rbf; total time=   0.0s\n",
      "[CV] END ........................C=90, gamma=0.1, kernel=rbf; total time=   0.0s\n",
      "[CV] END ........................C=90, gamma=0.1, kernel=rbf; total time=   0.0s\n",
      "[CV] END ..........................C=90, gamma=1, kernel=rbf; total time=   0.0s\n",
      "[CV] END ..........................C=90, gamma=1, kernel=rbf; total time=   0.0s\n",
      "[CV] END ..........................C=90, gamma=1, kernel=rbf; total time=   0.0s\n",
      "[CV] END ..........................C=90, gamma=1, kernel=rbf; total time=   0.0s\n",
      "[CV] END ..........................C=90, gamma=1, kernel=rbf; total time=   0.0s\n",
      "[CV] END .........................C=90, gamma=10, kernel=rbf; total time=   0.0s\n",
      "[CV] END .........................C=90, gamma=10, kernel=rbf; total time=   0.0s\n",
      "[CV] END .........................C=90, gamma=10, kernel=rbf; total time=   0.0s\n",
      "[CV] END .........................C=90, gamma=10, kernel=rbf; total time=   0.0s\n",
      "[CV] END .........................C=90, gamma=10, kernel=rbf; total time=   0.0s\n",
      "{'C': 2, 'kernel': 'linear'} SVR(C=2, kernel='linear')\n"
     ]
    }
   ],
   "source": [
    "pipline_scaled_standard = ColumnTransformer([\n",
    "    ('nums', StandardScaler(), num_attribs),\n",
    "    ('new_cols', CatTransform(), ['Period of stay', 'User continent'] ),\n",
    "    ('cat_encoding', OrdinalEncoder(), cat_attribs)\n",
    "])\n",
    "\n",
    "vegas_scaled_standard = pipline_scaled_standard.fit_transform(train_set)\n",
    "\n",
    "grid_search_scaled_standard = GridSearchCV(svm_reg, param_svr, cv=5, scoring='neg_mean_squared_error', verbose=2)\n",
    "grid_search_scaled_standard.fit(vegas_scaled_standard, label_set )\n",
    "print(grid_search_scaled_standard.best_params_, grid_search_scaled_standard.best_estimator_)"
   ]
  },
  {
   "cell_type": "code",
   "execution_count": 25,
   "metadata": {},
   "outputs": [
    {
     "data": {
      "text/plain": [
       "array([[<AxesSubplot:title={'center':'Nr. reviews'}>,\n",
       "        <AxesSubplot:title={'center':'Nr. hotel reviews'}>,\n",
       "        <AxesSubplot:title={'center':'Helpful votes'}>],\n",
       "       [<AxesSubplot:title={'center':'Score'}>,\n",
       "        <AxesSubplot:title={'center':'Hotel stars'}>,\n",
       "        <AxesSubplot:title={'center':'Nr. rooms'}>],\n",
       "       [<AxesSubplot:title={'center':'Member years'}>, <AxesSubplot:>,\n",
       "        <AxesSubplot:>]], dtype=object)"
      ]
     },
     "execution_count": 25,
     "metadata": {},
     "output_type": "execute_result"
    },
    {
     "data": {
      "image/png": "[encoded data removed]",
      "text/plain": [
       "<Figure size 1440x1080 with 9 Axes>"
      ]
     },
     "metadata": {
      "needs_background": "light"
     },
     "output_type": "display_data"
    }
   ],
   "source": [
    "\n",
    "train_set.hist(bins=50, figsize=(20,15))"
   ]
  },
  {
   "cell_type": "code",
   "execution_count": 26,
   "metadata": {},
   "outputs": [
    {
     "name": "stdout",
     "output_type": "stream",
     "text": [
      "1.037879420539884 1.0463824298361282\n"
     ]
    }
   ],
   "source": [
    "scaled_rmse = np.sqrt(-grid_search_scaled.best_score_)\n",
    "standard_rmse = np.sqrt(-grid_search_scaled_standard.best_score_)\n",
    "\n",
    "print(scaled_rmse, standard_rmse)"
   ]
  },
  {
   "cell_type": "markdown",
   "metadata": {},
   "source": [
    "2"
   ]
  },
  {
   "cell_type": "code",
   "execution_count": 33,
   "metadata": {},
   "outputs": [
    {
     "name": "stdout",
     "output_type": "stream",
     "text": [
      "1.0333365322074646\n"
     ]
    }
   ],
   "source": [
    "rnd_search = RandomizedSearchCV(svm_reg, param_distributions=param_svr, cv=8, n_iter=10, scoring='neg_mean_squared_error', random_state=69)\n",
    "rnd_search.fit(vegas_scaled, label_set)\n",
    "print(np.sqrt(-rnd_search.best_score_))"
   ]
  },
  {
   "cell_type": "markdown",
   "metadata": {},
   "source": [
    "4"
   ]
  },
  {
   "cell_type": "code",
   "execution_count": 39,
   "metadata": {},
   "outputs": [
    {
     "ename": "ValueError",
     "evalue": "Specifying the columns using strings is only supported for pandas DataFrames",
     "output_type": "error",
     "traceback": [
      "\u001b[1;31m---------------------------------------------------------------------------\u001b[0m",
      "\u001b[1;31mAttributeError\u001b[0m                            Traceback (most recent call last)",
      "\u001b[1;32m~\\anaconda3\\envs\\homl2\\lib\\site-packages\\sklearn\\utils\\__init__.py\u001b[0m in \u001b[0;36m_get_column_indices\u001b[1;34m(X, key)\u001b[0m\n\u001b[0;32m    373\u001b[0m         \u001b[1;32mtry\u001b[0m\u001b[1;33m:\u001b[0m\u001b[1;33m\u001b[0m\u001b[1;33m\u001b[0m\u001b[0m\n\u001b[1;32m--> 374\u001b[1;33m             \u001b[0mall_columns\u001b[0m \u001b[1;33m=\u001b[0m \u001b[0mX\u001b[0m\u001b[1;33m.\u001b[0m\u001b[0mcolumns\u001b[0m\u001b[1;33m\u001b[0m\u001b[1;33m\u001b[0m\u001b[0m\n\u001b[0m\u001b[0;32m    375\u001b[0m         \u001b[1;32mexcept\u001b[0m \u001b[0mAttributeError\u001b[0m\u001b[1;33m:\u001b[0m\u001b[1;33m\u001b[0m\u001b[1;33m\u001b[0m\u001b[0m\n",
      "\u001b[1;31mAttributeError\u001b[0m: 'numpy.ndarray' object has no attribute 'columns'",
      "\nDuring handling of the above exception, another exception occurred:\n",
      "\u001b[1;31mValueError\u001b[0m                                Traceback (most recent call last)",
      "\u001b[1;32m~\\AppData\\Local\\Temp/ipykernel_4496/2800647309.py\u001b[0m in \u001b[0;36m<module>\u001b[1;34m\u001b[0m\n\u001b[0;32m      4\u001b[0m ])\n\u001b[0;32m      5\u001b[0m \u001b[1;33m\u001b[0m\u001b[0m\n\u001b[1;32m----> 6\u001b[1;33m \u001b[0mpipline_full\u001b[0m\u001b[1;33m.\u001b[0m\u001b[0mfit\u001b[0m\u001b[1;33m(\u001b[0m\u001b[0mvegas_scaled\u001b[0m\u001b[1;33m)\u001b[0m\u001b[1;33m\u001b[0m\u001b[1;33m\u001b[0m\u001b[0m\n\u001b[0m",
      "\u001b[1;32m~\\anaconda3\\envs\\homl2\\lib\\site-packages\\sklearn\\pipeline.py\u001b[0m in \u001b[0;36mfit\u001b[1;34m(self, X, y, **fit_params)\u001b[0m\n\u001b[0;32m    344\u001b[0m             \u001b[1;32mif\u001b[0m \u001b[0mself\u001b[0m\u001b[1;33m.\u001b[0m\u001b[0m_final_estimator\u001b[0m \u001b[1;33m!=\u001b[0m \u001b[1;34m'passthrough'\u001b[0m\u001b[1;33m:\u001b[0m\u001b[1;33m\u001b[0m\u001b[1;33m\u001b[0m\u001b[0m\n\u001b[0;32m    345\u001b[0m                 \u001b[0mfit_params_last_step\u001b[0m \u001b[1;33m=\u001b[0m \u001b[0mfit_params_steps\u001b[0m\u001b[1;33m[\u001b[0m\u001b[0mself\u001b[0m\u001b[1;33m.\u001b[0m\u001b[0msteps\u001b[0m\u001b[1;33m[\u001b[0m\u001b[1;33m-\u001b[0m\u001b[1;36m1\u001b[0m\u001b[1;33m]\u001b[0m\u001b[1;33m[\u001b[0m\u001b[1;36m0\u001b[0m\u001b[1;33m]\u001b[0m\u001b[1;33m]\u001b[0m\u001b[1;33m\u001b[0m\u001b[1;33m\u001b[0m\u001b[0m\n\u001b[1;32m--> 346\u001b[1;33m                 \u001b[0mself\u001b[0m\u001b[1;33m.\u001b[0m\u001b[0m_final_estimator\u001b[0m\u001b[1;33m.\u001b[0m\u001b[0mfit\u001b[0m\u001b[1;33m(\u001b[0m\u001b[0mXt\u001b[0m\u001b[1;33m,\u001b[0m \u001b[0my\u001b[0m\u001b[1;33m,\u001b[0m \u001b[1;33m**\u001b[0m\u001b[0mfit_params_last_step\u001b[0m\u001b[1;33m)\u001b[0m\u001b[1;33m\u001b[0m\u001b[1;33m\u001b[0m\u001b[0m\n\u001b[0m\u001b[0;32m    347\u001b[0m \u001b[1;33m\u001b[0m\u001b[0m\n\u001b[0;32m    348\u001b[0m         \u001b[1;32mreturn\u001b[0m \u001b[0mself\u001b[0m\u001b[1;33m\u001b[0m\u001b[1;33m\u001b[0m\u001b[0m\n",
      "\u001b[1;32m~\\anaconda3\\envs\\homl2\\lib\\site-packages\\sklearn\\compose\\_column_transformer.py\u001b[0m in \u001b[0;36mfit\u001b[1;34m(self, X, y)\u001b[0m\n\u001b[0;32m    468\u001b[0m         \u001b[1;31m# we use fit_transform to make sure to set sparse_output_ (for which we\u001b[0m\u001b[1;33m\u001b[0m\u001b[1;33m\u001b[0m\u001b[0m\n\u001b[0;32m    469\u001b[0m         \u001b[1;31m# need the transformed data) to have consistent output type in predict\u001b[0m\u001b[1;33m\u001b[0m\u001b[1;33m\u001b[0m\u001b[0m\n\u001b[1;32m--> 470\u001b[1;33m         \u001b[0mself\u001b[0m\u001b[1;33m.\u001b[0m\u001b[0mfit_transform\u001b[0m\u001b[1;33m(\u001b[0m\u001b[0mX\u001b[0m\u001b[1;33m,\u001b[0m \u001b[0my\u001b[0m\u001b[1;33m=\u001b[0m\u001b[0my\u001b[0m\u001b[1;33m)\u001b[0m\u001b[1;33m\u001b[0m\u001b[1;33m\u001b[0m\u001b[0m\n\u001b[0m\u001b[0;32m    471\u001b[0m         \u001b[1;32mreturn\u001b[0m \u001b[0mself\u001b[0m\u001b[1;33m\u001b[0m\u001b[1;33m\u001b[0m\u001b[0m\n\u001b[0;32m    472\u001b[0m \u001b[1;33m\u001b[0m\u001b[0m\n",
      "\u001b[1;32m~\\anaconda3\\envs\\homl2\\lib\\site-packages\\sklearn\\compose\\_column_transformer.py\u001b[0m in \u001b[0;36mfit_transform\u001b[1;34m(self, X, y)\u001b[0m\n\u001b[0;32m    503\u001b[0m         \u001b[0mself\u001b[0m\u001b[1;33m.\u001b[0m\u001b[0m_validate_transformers\u001b[0m\u001b[1;33m(\u001b[0m\u001b[1;33m)\u001b[0m\u001b[1;33m\u001b[0m\u001b[1;33m\u001b[0m\u001b[0m\n\u001b[0;32m    504\u001b[0m         \u001b[0mself\u001b[0m\u001b[1;33m.\u001b[0m\u001b[0m_validate_column_callables\u001b[0m\u001b[1;33m(\u001b[0m\u001b[0mX\u001b[0m\u001b[1;33m)\u001b[0m\u001b[1;33m\u001b[0m\u001b[1;33m\u001b[0m\u001b[0m\n\u001b[1;32m--> 505\u001b[1;33m         \u001b[0mself\u001b[0m\u001b[1;33m.\u001b[0m\u001b[0m_validate_remainder\u001b[0m\u001b[1;33m(\u001b[0m\u001b[0mX\u001b[0m\u001b[1;33m)\u001b[0m\u001b[1;33m\u001b[0m\u001b[1;33m\u001b[0m\u001b[0m\n\u001b[0m\u001b[0;32m    506\u001b[0m \u001b[1;33m\u001b[0m\u001b[0m\n\u001b[0;32m    507\u001b[0m         \u001b[0mresult\u001b[0m \u001b[1;33m=\u001b[0m \u001b[0mself\u001b[0m\u001b[1;33m.\u001b[0m\u001b[0m_fit_transform\u001b[0m\u001b[1;33m(\u001b[0m\u001b[0mX\u001b[0m\u001b[1;33m,\u001b[0m \u001b[0my\u001b[0m\u001b[1;33m,\u001b[0m \u001b[0m_fit_transform_one\u001b[0m\u001b[1;33m)\u001b[0m\u001b[1;33m\u001b[0m\u001b[1;33m\u001b[0m\u001b[0m\n",
      "\u001b[1;32m~\\anaconda3\\envs\\homl2\\lib\\site-packages\\sklearn\\compose\\_column_transformer.py\u001b[0m in \u001b[0;36m_validate_remainder\u001b[1;34m(self, X)\u001b[0m\n\u001b[0;32m    330\u001b[0m         \u001b[0mcols\u001b[0m \u001b[1;33m=\u001b[0m \u001b[1;33m[\u001b[0m\u001b[1;33m]\u001b[0m\u001b[1;33m\u001b[0m\u001b[1;33m\u001b[0m\u001b[0m\n\u001b[0;32m    331\u001b[0m         \u001b[1;32mfor\u001b[0m \u001b[0mcolumns\u001b[0m \u001b[1;32min\u001b[0m \u001b[0mself\u001b[0m\u001b[1;33m.\u001b[0m\u001b[0m_columns\u001b[0m\u001b[1;33m:\u001b[0m\u001b[1;33m\u001b[0m\u001b[1;33m\u001b[0m\u001b[0m\n\u001b[1;32m--> 332\u001b[1;33m             \u001b[0mcols\u001b[0m\u001b[1;33m.\u001b[0m\u001b[0mextend\u001b[0m\u001b[1;33m(\u001b[0m\u001b[0m_get_column_indices\u001b[0m\u001b[1;33m(\u001b[0m\u001b[0mX\u001b[0m\u001b[1;33m,\u001b[0m \u001b[0mcolumns\u001b[0m\u001b[1;33m)\u001b[0m\u001b[1;33m)\u001b[0m\u001b[1;33m\u001b[0m\u001b[1;33m\u001b[0m\u001b[0m\n\u001b[0m\u001b[0;32m    333\u001b[0m \u001b[1;33m\u001b[0m\u001b[0m\n\u001b[0;32m    334\u001b[0m         \u001b[0mremaining_idx\u001b[0m \u001b[1;33m=\u001b[0m \u001b[0msorted\u001b[0m\u001b[1;33m(\u001b[0m\u001b[0mset\u001b[0m\u001b[1;33m(\u001b[0m\u001b[0mrange\u001b[0m\u001b[1;33m(\u001b[0m\u001b[0mself\u001b[0m\u001b[1;33m.\u001b[0m\u001b[0m_n_features\u001b[0m\u001b[1;33m)\u001b[0m\u001b[1;33m)\u001b[0m \u001b[1;33m-\u001b[0m \u001b[0mset\u001b[0m\u001b[1;33m(\u001b[0m\u001b[0mcols\u001b[0m\u001b[1;33m)\u001b[0m\u001b[1;33m)\u001b[0m\u001b[1;33m\u001b[0m\u001b[1;33m\u001b[0m\u001b[0m\n",
      "\u001b[1;32m~\\anaconda3\\envs\\homl2\\lib\\site-packages\\sklearn\\utils\\__init__.py\u001b[0m in \u001b[0;36m_get_column_indices\u001b[1;34m(X, key)\u001b[0m\n\u001b[0;32m    374\u001b[0m             \u001b[0mall_columns\u001b[0m \u001b[1;33m=\u001b[0m \u001b[0mX\u001b[0m\u001b[1;33m.\u001b[0m\u001b[0mcolumns\u001b[0m\u001b[1;33m\u001b[0m\u001b[1;33m\u001b[0m\u001b[0m\n\u001b[0;32m    375\u001b[0m         \u001b[1;32mexcept\u001b[0m \u001b[0mAttributeError\u001b[0m\u001b[1;33m:\u001b[0m\u001b[1;33m\u001b[0m\u001b[1;33m\u001b[0m\u001b[0m\n\u001b[1;32m--> 376\u001b[1;33m             raise ValueError(\"Specifying the columns using strings is only \"\n\u001b[0m\u001b[0;32m    377\u001b[0m                              \"supported for pandas DataFrames\")\n\u001b[0;32m    378\u001b[0m         \u001b[1;32mif\u001b[0m \u001b[0misinstance\u001b[0m\u001b[1;33m(\u001b[0m\u001b[0mkey\u001b[0m\u001b[1;33m,\u001b[0m \u001b[0mstr\u001b[0m\u001b[1;33m)\u001b[0m\u001b[1;33m:\u001b[0m\u001b[1;33m\u001b[0m\u001b[1;33m\u001b[0m\u001b[0m\n",
      "\u001b[1;31mValueError\u001b[0m: Specifying the columns using strings is only supported for pandas DataFrames"
     ]
    }
   ],
   "source": [
    "pipline_full = Pipeline([\n",
    "    ('prep', pipline_scaled),\n",
    "    # ('svm', SVR(** rnd_search.best_params_))\n",
    "])\n",
    "\n",
    "pipline_full.fit(vegas_scaled)\n"
   ]
  },
  {
   "cell_type": "code",
   "execution_count": null,
   "metadata": {},
   "outputs": [],
   "source": []
  }
 ],
 "metadata": {
  "interpreter": {
   "hash": "971e3ff09270c4b5647e30917849502ce0b1e9572e3769abe42569fbc46deb33"
  },
  "kernelspec": {
   "display_name": "Python 3.9.7 64-bit ('homl2': conda)",
   "language": "python",
   "name": "python3"
  },
  "language_info": {
   "codemirror_mode": {
    "name": "ipython",
    "version": 3
   },
   "file_extension": ".py",
   "mimetype": "text/x-python",
   "name": "python",
   "nbconvert_exporter": "python",
   "pygments_lexer": "ipython3",
   "version": "3.9.7"
  },
  "orig_nbformat": 4
 },
 "nbformat": 4,
 "nbformat_minor": 2
}
