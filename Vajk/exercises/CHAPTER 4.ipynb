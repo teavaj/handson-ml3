{
  "cells": [
    {
      "cell_type": "markdown",
      "metadata": {
        "nteract": {
          "transient": {
            "deleting": false
          }
        }
      },
      "source": [
        "# 1\n",
        "Training set with millions of data - Ridge Regression or Elastic Net \n"
      ]
    },
    {
      "cell_type": "markdown",
      "metadata": {
        "nteract": {
          "transient": {
            "deleting": false
          }
        }
      },
      "source": [
        "# 2\n",
        "Ridge Regression\n",
        "\n",
        "It would be hard to estimate alpha\n",
        "\n",
        "Scaling the data"
      ]
    },
    {
      "cell_type": "markdown",
      "metadata": {
        "nteract": {
          "transient": {
            "deleting": false
          }
        }
      },
      "source": [
        "# 3\n",
        "No, because it's generally not polynomial. The cost function is convex."
      ]
    },
    {
      "cell_type": "markdown",
      "metadata": {
        "nteract": {
          "transient": {
            "deleting": false
          }
        }
      },
      "source": [
        "# 4\n",
        "Yes, the main difference is the time and route it takes for them.\n",
        "\n",
        "Gradually reduce the learning rate."
      ]
    },
    {
      "cell_type": "markdown",
      "metadata": {
        "nteract": {
          "transient": {
            "deleting": false
          }
        }
      },
      "source": [
        "# 5\n",
        "BGD hit a local minimum and it can't estimate for the global minimum.\n",
        "The modell is overfitting. Need to enlarge the batch-size.\n",
        "Or use early-stopping."
      ]
    },
    {
      "cell_type": "markdown",
      "metadata": {
        "nteract": {
          "transient": {
            "deleting": false
          }
        }
      },
      "source": [
        "# 6\n",
        "No.\n"
      ]
    },
    {
      "cell_type": "markdown",
      "metadata": {
        "nteract": {
          "transient": {
            "deleting": false
          }
        }
      },
      "source": [
        "# 7\n",
        "BGD"
      ]
    },
    {
      "cell_type": "markdown",
      "metadata": {
        "nteract": {
          "transient": {
            "deleting": false
          }
        }
      },
      "source": [
        "# 8\n",
        "The modell is overfitting.\n",
        "\n",
        "</n> -more testing data\n",
        "\n",
        "</n> -lower the degree of the modell\n",
        "\n",
        "</n> -scale the data\n",
        "\n",
        "-regularize the modell"
      ]
    },
    {
      "cell_type": "markdown",
      "metadata": {
        "nteract": {
          "transient": {
            "deleting": false
          }
        }
      },
      "source": [
        "# 9\n",
        "\n",
        "High BIAS.\n",
        "\n",
        "Reduce alpha\n"
      ]
    },
    {
      "cell_type": "markdown",
      "metadata": {
        "nteract": {
          "transient": {
            "deleting": false
          }
        }
      },
      "source": [
        "$$ 10 $$\n",
        "\n",
        "a) It can fit better the training data. Can simplify the modell.\n",
        "\n",
        "b) Eliminates the not necessary features.\n",
        "\n",
        "c) Lasso Regression can behave badly with too many features."
      ]
    },
    {
      "cell_type": "code",
      "execution_count": 1,
      "metadata": {
        "nteract": {
          "transient": {
            "deleting": false
          }
        }
      },
      "outputs": [],
      "source": [
        "import pandas as pd\n",
        "from pandas.plotting import scatter_matrix\n",
        "import numpy as np\n",
        "\n",
        "import plotly.express as px\n",
        "px.defaults.width = 600\n",
        "import plotly.graph_objs as go\n",
        "\n",
        "%matplotlib inline\n",
        "import matplotlib as mpl\n",
        "import matplotlib.pyplot as plt\n",
        "mpl.rc('axes', labelsize=14)\n",
        "mpl.rc('xtick', labelsize=12)\n",
        "mpl.rc('ytick', labelsize=12)\n"
      ]
    },
    {
      "cell_type": "code",
      "execution_count": 2,
      "metadata": {},
      "outputs": [
        {
          "data": {
            "text/plain": [
              "['data',\n",
              " 'target',\n",
              " 'frame',\n",
              " 'target_names',\n",
              " 'DESCR',\n",
              " 'feature_names',\n",
              " 'filename',\n",
              " 'data_module']"
            ]
          },
          "execution_count": 2,
          "metadata": {},
          "output_type": "execute_result"
        }
      ],
      "source": [
        "from sklearn.datasets import load_iris\n",
        "\n",
        "iris = load_iris(as_frame=True)\n",
        "list(iris)"
      ]
    },
    {
      "cell_type": "code",
      "execution_count": 3,
      "metadata": {},
      "outputs": [],
      "source": [
        "X = iris.data[['petal length (cm)', 'petal length (cm)']].values\n",
        "y = iris['target'].values"
      ]
    },
    {
      "cell_type": "code",
      "execution_count": 8,
      "metadata": {},
      "outputs": [],
      "source": [
        "bias_array = np.ones(len(X))\n",
        "X_with_bias = np.c_[bias_array, X]"
      ]
    },
    {
      "cell_type": "code",
      "execution_count": 10,
      "metadata": {},
      "outputs": [],
      "source": [
        "test_ratio = 0.2\n",
        "validation_ratio = 0.2\n",
        "total_size = len(X)\n",
        "\n",
        "test_size = int(total_size * test_ratio)\n",
        "validation_size = int(total_size * validation_ratio)\n",
        "train_size = total_size - test_size - validation_size\n",
        "\n",
        "np.random.seed(69)\n",
        "rnd_indecies = np.random.permutation(total_size)\n",
        "\n",
        "X_train = X_with_bias[rnd_indecies[:train_size]]\n",
        "y_train = y[rnd_indecies[:train_size]]\n",
        "X_valid = X_with_bias[rnd_indecies[train_size:-test_size]]\n",
        "y_valid = y[rnd_indecies[train_size:-test_size]]\n",
        "X_test = X_with_bias[rnd_indecies[-test_size:]]\n",
        "y_test = y[rnd_indecies[-test_size:]]\n"
      ]
    },
    {
      "cell_type": "markdown",
      "metadata": {},
      "source": [
        "The targets are currently class indices (0, 1 or 2), but we need target class probabilities to train the Softmax Regression model. Each instance will have target class probabilities equal to 0.0 for all classes except for the target class which will have a probability of 1.0 (in other words, the vector of class probabilities for any given instance is a one-hot vector)"
      ]
    },
    {
      "cell_type": "code",
      "execution_count": null,
      "metadata": {},
      "outputs": [],
      "source": []
    }
  ],
  "metadata": {
    "kernelspec": {
      "display_name": "base",
      "language": "python",
      "name": "python3"
    },
    "language_info": {
      "codemirror_mode": {
        "name": "ipython",
        "version": 3
      },
      "file_extension": ".py",
      "mimetype": "text/x-python",
      "name": "python",
      "nbconvert_exporter": "python",
      "pygments_lexer": "ipython3",
      "version": "3.9.15 (main, Nov  4 2022, 16:35:55) [MSC v.1916 64 bit (AMD64)]"
    },
    "nteract": {
      "version": "0.28.0"
    },
    "orig_nbformat": 4,
    "vscode": {
      "interpreter": {
        "hash": "635814f4214ea1b11d7625ceb0c3109b382d1a963efd9612002e16099ce537c3"
      }
    }
  },
  "nbformat": 4,
  "nbformat_minor": 2
}
