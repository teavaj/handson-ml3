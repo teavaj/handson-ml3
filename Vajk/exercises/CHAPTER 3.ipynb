{
 "cells": [
  {
   "cell_type": "code",
   "execution_count": 18,
   "metadata": {},
   "outputs": [],
   "source": [
    "import pandas as pd\n",
    "import numpy as np\n",
    "import plotly.express as px\n",
    "px.defaults.width = 600\n",
    "import plotly.graph_objs as go\n",
    "\n",
    "from sklearn.datasets import fetch_openml\n",
    "from sklearn.linear_model import SGDClassifier\n",
    "from sklearn.model_selection import cross_val_score, cross_val_predict, GridSearchCV\n",
    "from sklearn.experimental import enable_halving_search_cv  \n",
    "from sklearn.model_selection import HalvingGridSearchCV\n",
    "from sklearn.base import BaseEstimator\n",
    "from sklearn.metrics import confusion_matrix, ConfusionMatrixDisplay, precision_score, recall_score, f1_score, precision_recall_curve, roc_curve, roc_auc_score, accuracy_score\n",
    "from sklearn.ensemble import RandomForestClassifier\n",
    "from sklearn.neighbors import KNeighborsClassifier\n",
    "from sklearn.preprocessing import StandardScaler\n",
    "\n",
    "from scipy.ndimage import shift"
   ]
  },
  {
   "cell_type": "code",
   "execution_count": 5,
   "metadata": {},
   "outputs": [],
   "source": [
    "mnist = fetch_openml('mnist_784', version=1, as_frame=False)\n",
    "X, y = mnist['data'], mnist['target']\n",
    "X_train, X_test, y_train, y_test = X[:60000], X[60000:], y[:60000], y[60000:]\n",
    "scaler = StandardScaler()\n",
    "X_train_scaled = scaler.fit_transform(X_train.astype(np.float64))"
   ]
  },
  {
   "cell_type": "markdown",
   "metadata": {},
   "source": [
    "1"
   ]
  },
  {
   "cell_type": "code",
   "execution_count": 6,
   "metadata": {},
   "outputs": [],
   "source": [
    "knn_clf = KNeighborsClassifier()\n",
    "knn_clf.fit(X_train_scaled, y_train)\n",
    "\n",
    "parameters = [{'p':[1, 2], 'n_neighbors':[ 5, 7, 9], 'algorithm':['ball_tree', 'kd_tree']}]"
   ]
  },
  {
   "cell_type": "code",
   "execution_count": null,
   "metadata": {},
   "outputs": [
    {
     "name": "stdout",
     "output_type": "stream",
     "text": [
      "n_iterations: 3\n",
      "n_required_iterations: 3\n",
      "n_possible_iterations: 3\n",
      "min_resources_: 6666\n",
      "max_resources_: 60000\n",
      "aggressive_elimination: False\n",
      "factor: 3\n",
      "----------\n",
      "iter: 0\n",
      "n_candidates: 12\n",
      "n_resources: 6666\n",
      "Fitting 3 folds for each of 12 candidates, totalling 36 fits\n",
      "[CV] END ............algorithm=ball_tree, n_neighbors=5, p=1; total time=  13.0s\n",
      "[CV] END ............algorithm=ball_tree, n_neighbors=5, p=1; total time=  13.3s\n",
      "[CV] END ............algorithm=ball_tree, n_neighbors=5, p=1; total time=  13.4s\n",
      "[CV] END ............algorithm=ball_tree, n_neighbors=5, p=2; total time=  12.8s\n",
      "[CV] END ............algorithm=ball_tree, n_neighbors=5, p=2; total time=  12.6s\n",
      "[CV] END ............algorithm=ball_tree, n_neighbors=5, p=2; total time=  12.8s\n",
      "[CV] END ............algorithm=ball_tree, n_neighbors=7, p=1; total time=  13.0s\n",
      "[CV] END ............algorithm=ball_tree, n_neighbors=7, p=1; total time=  13.0s\n",
      "[CV] END ............algorithm=ball_tree, n_neighbors=7, p=1; total time=  13.0s\n",
      "[CV] END ............algorithm=ball_tree, n_neighbors=7, p=2; total time=  12.9s\n",
      "[CV] END ............algorithm=ball_tree, n_neighbors=7, p=2; total time=  12.6s\n",
      "[CV] END ............algorithm=ball_tree, n_neighbors=7, p=2; total time=  12.5s\n",
      "[CV] END ............algorithm=ball_tree, n_neighbors=9, p=1; total time=  12.8s\n",
      "[CV] END ............algorithm=ball_tree, n_neighbors=9, p=1; total time=  12.7s\n",
      "[CV] END ............algorithm=ball_tree, n_neighbors=9, p=1; total time=  13.0s\n",
      "[CV] END ............algorithm=ball_tree, n_neighbors=9, p=2; total time=  12.4s\n",
      "[CV] END ............algorithm=ball_tree, n_neighbors=9, p=2; total time=  14.3s\n",
      "[CV] END ............algorithm=ball_tree, n_neighbors=9, p=2; total time=  15.7s\n",
      "[CV] END ..............algorithm=kd_tree, n_neighbors=5, p=1; total time=  12.1s\n",
      "[CV] END ..............algorithm=kd_tree, n_neighbors=5, p=1; total time=  13.8s\n",
      "[CV] END ..............algorithm=kd_tree, n_neighbors=5, p=1; total time=  13.3s\n",
      "[CV] END ..............algorithm=kd_tree, n_neighbors=5, p=2; total time=  15.3s\n",
      "[CV] END ..............algorithm=kd_tree, n_neighbors=5, p=2; total time=  15.0s\n",
      "[CV] END ..............algorithm=kd_tree, n_neighbors=5, p=2; total time=  15.2s\n",
      "[CV] END ..............algorithm=kd_tree, n_neighbors=7, p=1; total time=  13.2s\n",
      "[CV] END ..............algorithm=kd_tree, n_neighbors=7, p=1; total time=  13.3s\n",
      "[CV] END ..............algorithm=kd_tree, n_neighbors=7, p=1; total time=  13.1s\n",
      "[CV] END ..............algorithm=kd_tree, n_neighbors=7, p=2; total time=  15.2s\n",
      "[CV] END ..............algorithm=kd_tree, n_neighbors=7, p=2; total time=  15.3s\n",
      "[CV] END ..............algorithm=kd_tree, n_neighbors=7, p=2; total time=  16.0s\n",
      "[CV] END ..............algorithm=kd_tree, n_neighbors=9, p=1; total time=  13.9s\n",
      "[CV] END ..............algorithm=kd_tree, n_neighbors=9, p=1; total time=  13.2s\n",
      "[CV] END ..............algorithm=kd_tree, n_neighbors=9, p=1; total time=  13.3s\n",
      "[CV] END ..............algorithm=kd_tree, n_neighbors=9, p=2; total time=  15.7s\n",
      "[CV] END ..............algorithm=kd_tree, n_neighbors=9, p=2; total time=  15.4s\n",
      "[CV] END ..............algorithm=kd_tree, n_neighbors=9, p=2; total time=  15.5s\n",
      "----------\n",
      "iter: 1\n",
      "n_candidates: 4\n",
      "n_resources: 19998\n",
      "Fitting 3 folds for each of 4 candidates, totalling 12 fits\n",
      "[CV] END ............algorithm=ball_tree, n_neighbors=7, p=1; total time= 1.7min\n",
      "[CV] END ............algorithm=ball_tree, n_neighbors=7, p=1; total time= 1.7min\n",
      "[CV] END ............algorithm=ball_tree, n_neighbors=7, p=1; total time= 1.7min\n",
      "[CV] END ..............algorithm=kd_tree, n_neighbors=7, p=1; total time= 1.9min\n",
      "[CV] END ..............algorithm=kd_tree, n_neighbors=7, p=1; total time= 1.8min\n",
      "[CV] END ..............algorithm=kd_tree, n_neighbors=7, p=1; total time= 1.8min\n",
      "[CV] END ............algorithm=ball_tree, n_neighbors=5, p=1; total time= 1.7min\n",
      "[CV] END ............algorithm=ball_tree, n_neighbors=5, p=1; total time= 1.7min\n",
      "[CV] END ............algorithm=ball_tree, n_neighbors=5, p=1; total time= 1.6min\n",
      "[CV] END ..............algorithm=kd_tree, n_neighbors=5, p=1; total time= 1.8min\n",
      "[CV] END ..............algorithm=kd_tree, n_neighbors=5, p=1; total time= 2.0min\n",
      "[CV] END ..............algorithm=kd_tree, n_neighbors=5, p=1; total time= 1.9min\n",
      "----------\n",
      "iter: 2\n",
      "n_candidates: 2\n",
      "n_resources: 59994\n",
      "Fitting 3 folds for each of 2 candidates, totalling 6 fits\n",
      "[CV] END ............algorithm=ball_tree, n_neighbors=5, p=1; total time=15.1min\n",
      "[CV] END ............algorithm=ball_tree, n_neighbors=5, p=1; total time=15.4min\n",
      "[CV] END ............algorithm=ball_tree, n_neighbors=5, p=1; total time=14.2min\n",
      "[CV] END ..............algorithm=kd_tree, n_neighbors=5, p=1; total time=30.9min\n",
      "[CV] END .............algorithm=kd_tree, n_neighbors=5, p=1; total time=587.7min\n",
      "[CV] END ..............algorithm=kd_tree, n_neighbors=5, p=1; total time=18.1min\n"
     ]
    },
    {
     "data": {
      "text/plain": [
       "HalvingGridSearchCV(cv=3, estimator=KNeighborsClassifier(),\n",
       "                    param_grid=[{'algorithm': ['ball_tree', 'kd_tree'],\n",
       "                                 'n_neighbors': [5, 7, 9], 'p': [1, 2]}],\n",
       "                    scoring='accuracy', verbose=2)"
      ]
     },
     "metadata": {},
     "output_type": "display_data"
    }
   ],
   "source": [
    "knn_search = HalvingGridSearchCV(knn_clf, parameters, scoring='accuracy', cv=3, verbose=2, resource='n_samples', min_resources='exhaust')\n",
    "knn_search.fit(X_train_scaled, y_train)"
   ]
  },
  {
   "cell_type": "code",
   "execution_count": null,
   "metadata": {},
   "outputs": [
    {
     "data": {
      "text/plain": [
       "0.9545121178784545"
      ]
     },
     "metadata": {},
     "output_type": "display_data"
    }
   ],
   "source": [
    "knn_search.best_score_"
   ]
  },
  {
   "cell_type": "code",
   "execution_count": null,
   "metadata": {},
   "outputs": [
    {
     "data": {
      "text/plain": [
       "{'algorithm': 'ball_tree', 'n_neighbors': 5, 'p': 1}"
      ]
     },
     "metadata": {},
     "output_type": "display_data"
    }
   ],
   "source": [
    "knn_search.best_params_"
   ]
  },
  {
   "cell_type": "code",
   "execution_count": 7,
   "metadata": {},
   "outputs": [],
   "source": [
    "knn_clf = KNeighborsClassifier(algorithm='ball_tree', n_neighbors=5, p=1)"
   ]
  },
  {
   "cell_type": "code",
   "execution_count": 12,
   "metadata": {},
   "outputs": [],
   "source": [
    "def shift_image(image, dx, dy):\n",
    "    image = image.reshape((28, 28))\n",
    "    shifted_image = shift(image, [dy, dx], cval=0, mode=\"constant\")\n",
    "    return shifted_image.reshape([-1])"
   ]
  },
  {
   "cell_type": "code",
   "execution_count": 13,
   "metadata": {},
   "outputs": [],
   "source": [
    "X_train_augmented = [image for image in X_train]\n",
    "y_train_augmented = [label for label in y_train]\n",
    "\n",
    "for dx, dy in ((1, 0), (-1, 0), (0, 1), (0, -1)):\n",
    "    for image, label in zip(X_train, y_train):\n",
    "        X_train_augmented.append(shift_image(image, dx, dy))\n",
    "        y_train_augmented.append(label)\n",
    "\n",
    "X_train_augmented = np.array(X_train_augmented)\n",
    "y_train_augmented = np.array(y_train_augmented)"
   ]
  },
  {
   "cell_type": "code",
   "execution_count": 14,
   "metadata": {},
   "outputs": [],
   "source": [
    "shuffle_idx = np.random.permutation(len(X_train_augmented))\n",
    "X_train_augmented = X_train_augmented[shuffle_idx]\n",
    "y_train_augmented = y_train_augmented[shuffle_idx]"
   ]
  },
  {
   "cell_type": "code",
   "execution_count": null,
   "metadata": {},
   "outputs": [],
   "source": []
  },
  {
   "cell_type": "code",
   "execution_count": 15,
   "metadata": {},
   "outputs": [
    {
     "data": {
      "text/plain": [
       "KNeighborsClassifier(algorithm='ball_tree', p=1)"
      ]
     },
     "execution_count": 15,
     "metadata": {},
     "output_type": "execute_result"
    }
   ],
   "source": [
    "knn_clf.fit(X_train_augmented, y_train_augmented)"
   ]
  },
  {
   "cell_type": "code",
   "execution_count": 17,
   "metadata": {},
   "outputs": [],
   "source": [
    "y_pred = knn_clf.predict(X_test)\n"
   ]
  },
  {
   "cell_type": "code",
   "execution_count": 19,
   "metadata": {},
   "outputs": [
    {
     "data": {
      "text/plain": [
       "0.9687"
      ]
     },
     "execution_count": 19,
     "metadata": {},
     "output_type": "execute_result"
    }
   ],
   "source": [
    "accuracy_score(y_test, y_pred)"
   ]
  },
  {
   "cell_type": "code",
   "execution_count": null,
   "metadata": {},
   "outputs": [],
   "source": []
  }
 ],
 "metadata": {
  "interpreter": {
   "hash": "971e3ff09270c4b5647e30917849502ce0b1e9572e3769abe42569fbc46deb33"
  },
  "kernelspec": {
   "display_name": "Python 3.9.7 64-bit ('homl2': conda)",
   "language": "python",
   "name": "python3"
  },
  "language_info": {
   "codemirror_mode": {
    "name": "ipython",
    "version": 3
   },
   "file_extension": ".py",
   "mimetype": "text/x-python",
   "name": "python",
   "nbconvert_exporter": "python",
   "pygments_lexer": "ipython3",
   "version": "3.9.7"
  },
  "orig_nbformat": 4
 },
 "nbformat": 4,
 "nbformat_minor": 2
}
